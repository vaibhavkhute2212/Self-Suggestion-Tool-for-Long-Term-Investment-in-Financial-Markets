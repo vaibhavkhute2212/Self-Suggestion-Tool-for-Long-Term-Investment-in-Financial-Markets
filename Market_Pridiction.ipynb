{
  "nbformat": 4,
  "nbformat_minor": 0,
  "metadata": {
    "colab": {
      "provenance": [],
      "authorship_tag": "ABX9TyN9QLS48A2eksT+dG1tmn+4",
      "include_colab_link": true
    },
    "kernelspec": {
      "name": "python3",
      "display_name": "Python 3"
    },
    "language_info": {
      "name": "python"
    }
  },
  "cells": [
    {
      "cell_type": "markdown",
      "metadata": {
        "id": "view-in-github",
        "colab_type": "text"
      },
      "source": [
        "<a href=\"https://colab.research.google.com/github/vaibhavkhute2212/Self-Suggestion-Tool-for-Long-Term-Investment-in-Financial-Markets/blob/main/Market_Pridiction.ipynb\" target=\"_parent\"><img src=\"https://colab.research.google.com/assets/colab-badge.svg\" alt=\"Open In Colab\"/></a>"
      ]
    },
    {
      "cell_type": "code",
      "execution_count": 1,
      "metadata": {
        "colab": {
          "base_uri": "https://localhost:8080/",
          "height": 836
        },
        "id": "oIZ3JFn8ln3X",
        "outputId": "b05f1818-a8c5-4944-c116-e271f2e39464"
      },
      "outputs": [
        {
          "output_type": "stream",
          "name": "stdout",
          "text": [
            "Looking in indexes: https://pypi.org/simple, https://us-python.pkg.dev/colab-wheels/public/simple/\n",
            "Collecting yfinance\n",
            "  Downloading yfinance-0.1.87-py2.py3-none-any.whl (29 kB)\n",
            "Requirement already satisfied: multitasking>=0.0.7 in /usr/local/lib/python3.7/dist-packages (from yfinance) (0.0.11)\n",
            "Collecting requests>=2.26\n",
            "  Downloading requests-2.28.1-py3-none-any.whl (62 kB)\n",
            "\u001b[K     |████████████████████████████████| 62 kB 404 kB/s \n",
            "\u001b[?25hRequirement already satisfied: numpy>=1.15 in /usr/local/lib/python3.7/dist-packages (from yfinance) (1.21.6)\n",
            "Requirement already satisfied: lxml>=4.5.1 in /usr/local/lib/python3.7/dist-packages (from yfinance) (4.9.1)\n",
            "Requirement already satisfied: pandas>=0.24.0 in /usr/local/lib/python3.7/dist-packages (from yfinance) (1.3.5)\n",
            "Requirement already satisfied: appdirs>=1.4.4 in /usr/local/lib/python3.7/dist-packages (from yfinance) (1.4.4)\n",
            "Requirement already satisfied: pytz>=2017.3 in /usr/local/lib/python3.7/dist-packages (from pandas>=0.24.0->yfinance) (2022.6)\n",
            "Requirement already satisfied: python-dateutil>=2.7.3 in /usr/local/lib/python3.7/dist-packages (from pandas>=0.24.0->yfinance) (2.8.2)\n",
            "Requirement already satisfied: six>=1.5 in /usr/local/lib/python3.7/dist-packages (from python-dateutil>=2.7.3->pandas>=0.24.0->yfinance) (1.15.0)\n",
            "Requirement already satisfied: idna<4,>=2.5 in /usr/local/lib/python3.7/dist-packages (from requests>=2.26->yfinance) (2.10)\n",
            "Requirement already satisfied: charset-normalizer<3,>=2 in /usr/local/lib/python3.7/dist-packages (from requests>=2.26->yfinance) (2.1.1)\n",
            "Requirement already satisfied: urllib3<1.27,>=1.21.1 in /usr/local/lib/python3.7/dist-packages (from requests>=2.26->yfinance) (1.24.3)\n",
            "Requirement already satisfied: certifi>=2017.4.17 in /usr/local/lib/python3.7/dist-packages (from requests>=2.26->yfinance) (2022.9.24)\n",
            "Installing collected packages: requests, yfinance\n",
            "  Attempting uninstall: requests\n",
            "    Found existing installation: requests 2.23.0\n",
            "    Uninstalling requests-2.23.0:\n",
            "      Successfully uninstalled requests-2.23.0\n",
            "Successfully installed requests-2.28.1 yfinance-0.1.87\n"
          ]
        },
        {
          "output_type": "error",
          "ename": "ModuleNotFoundError",
          "evalue": "ignored",
          "traceback": [
            "\u001b[0;31m---------------------------------------------------------------------------\u001b[0m",
            "\u001b[0;31mModuleNotFoundError\u001b[0m                       Traceback (most recent call last)",
            "\u001b[0;32m<ipython-input-1-880d679e4e10>\u001b[0m in \u001b[0;36m<module>\u001b[0;34m\u001b[0m\n\u001b[1;32m      1\u001b[0m \u001b[0mget_ipython\u001b[0m\u001b[0;34m(\u001b[0m\u001b[0;34m)\u001b[0m\u001b[0;34m.\u001b[0m\u001b[0msystem\u001b[0m\u001b[0;34m(\u001b[0m\u001b[0;34m'pip install yfinance'\u001b[0m\u001b[0;34m)\u001b[0m\u001b[0;34m\u001b[0m\u001b[0;34m\u001b[0m\u001b[0m\n\u001b[1;32m      2\u001b[0m \u001b[0;32mimport\u001b[0m \u001b[0mpandas\u001b[0m \u001b[0;32mas\u001b[0m \u001b[0mpd\u001b[0m\u001b[0;34m\u001b[0m\u001b[0;34m\u001b[0m\u001b[0m\n\u001b[0;32m----> 3\u001b[0;31m \u001b[0;32mfrom\u001b[0m \u001b[0mfbprophet\u001b[0m \u001b[0;32mimport\u001b[0m \u001b[0mProphet\u001b[0m\u001b[0;34m\u001b[0m\u001b[0;34m\u001b[0m\u001b[0m\n\u001b[0m\u001b[1;32m      4\u001b[0m \u001b[0;32mimport\u001b[0m \u001b[0myfinance\u001b[0m \u001b[0;32mas\u001b[0m \u001b[0myf\u001b[0m\u001b[0;34m\u001b[0m\u001b[0;34m\u001b[0m\u001b[0m\n\u001b[1;32m      5\u001b[0m \u001b[0;32mfrom\u001b[0m \u001b[0murllib\u001b[0m\u001b[0;34m.\u001b[0m\u001b[0mrequest\u001b[0m \u001b[0;32mimport\u001b[0m \u001b[0murlopen\u001b[0m\u001b[0;34m\u001b[0m\u001b[0;34m\u001b[0m\u001b[0m\n",
            "\u001b[0;31mModuleNotFoundError\u001b[0m: No module named 'fbprophet'",
            "",
            "\u001b[0;31m---------------------------------------------------------------------------\u001b[0;32m\nNOTE: If your import is failing due to a missing package, you can\nmanually install dependencies using either !pip or !apt.\n\nTo view examples of installing some common dependencies, click the\n\"Open Examples\" button below.\n\u001b[0;31m---------------------------------------------------------------------------\u001b[0m\n"
          ],
          "errorDetails": {
            "actions": [
              {
                "action": "open_url",
                "actionText": "Open Examples",
                "url": "/notebooks/snippets/importing_libraries.ipynb"
              }
            ]
          }
        }
      ],
      "source": [
        "!pip install yfinance\n",
        "import pandas as pd\n",
        "from fbprophet import Prophet\n",
        "import yfinance as yf\n",
        "from urllib.request import urlopen\n",
        "from bs4 import BeautifulSoup\n",
        "import re\n",
        "url1 = \"https://in.finance.yahoo.com/most-active\"\n",
        "url4 = \"https://in.finance.yahoo.com/gainers\"\n",
        "url3 = \"https://in.finance.yahoo.com/cryptocurrencies\"\n",
        "url2 = \"https://in.finance.yahoo.com/mutualfunds\"\n",
        "while(1):\n",
        "  print(\"Enter the number for the type of stock you want to analyze:-\")\n",
        "  print(\"1: Top 10 most active stocks of the day (Stocks which were traded largely)\")\n",
        "  print(\"2: Top 10 mutual funds\")\n",
        "  print(\"3: Top 10 cryptocurrencies\")\n",
        "  print(\"4: Top 10 gaining stocks (Stocks whose percentage change in intraday price was higher than 2.5%)\")\n",
        "  x=int(input())\n",
        "  if x==1:\n",
        "    url=url1\n",
        "    break\n",
        "  elif x==2:\n",
        "    url=url2\n",
        "    break\n",
        "  elif x==3:\n",
        "    url=url3\n",
        "    break\n",
        "  elif x==4:\n",
        "    url=url4  \n",
        "    break    \n",
        "  else:\n",
        "    print(\"Incorrect input. Choose from the given options.\")  \n",
        "    continue\n",
        "\"\"\"\n",
        "html = urlopen(url)\n",
        "soup = BeautifulSoup(html,'lxml')\n",
        "rows = soup.find_all('tr')\n",
        "for row in rows:\n",
        "  row_td = row.find_all('td')\n",
        "str_cells = str(row_td)\n",
        "cleantext = BeautifulSoup(str_cells, \"lxml\").get_text()\n",
        "list_rows = []\n",
        "for row in rows:\n",
        "    cells = row.find_all('td')\n",
        "    str_cells = str(cells)\n",
        "    clean = re.compile('<.*?>')\n",
        "    clean2 = (re.sub(clean, '',str_cells))\n",
        "    list_rows.append(clean2)\n",
        "fd = pd.DataFrame(list_rows)    \n",
        "df1 = fd[0].str.split(',', expand=True)\n",
        "df1[0] = df1[0].str.strip('[')\n",
        "df1.head(10)\n",
        "data=df1.iloc[1:11,0:2]\n",
        "data\n",
        "\"\"\"\n",
        "if url == url1:\n",
        "  i={\"Vodafone Idea Limited\":\"IDEA.NS\",\"Uttam Value Steels Limited\":\"UVSL.NS\",\"Vodafone Idea Limited\":\"IDEA.BO\",\"MPS Infotecnics Limited\":\"VISESHINFO.NS\",\"Yes Bank Limited\":\"YESBANK.NS\",\"National Aluminium Company Limited\":\"NATIONALUM.NS\",\"Bank of Baroda\":\"BANKBARODA.NS\",\"Jaiprakash Power Ventures Limited\":\"JPPOWER.NS\",\"NMDC Limited\":\"NMDC.NS\",\"The Lakshmi Vilas Bank Limited\":\"LAKSHVILAS.NS\",\"Punjab National Bank\":\"PNB.NS\"}\n",
        "if url == url2:\n",
        "  i={\"Tata Digital India Fund Direct Dividend Payout\":\"0P0001784H.BO\",\"Tata Digital India Fund Direct Growth\":\"0P0001784G.BO\",\"Tata Digital India Fund Direct Dividend Reinvestment\":\"0P0001BBCO.BO\",\"Tata Digital India Fund Regular Dividend Payout\":\"0P0001784D.BO\",\"    Tata Digital India Fund Regular Growth\":\"0P0001784C.BO\",\"Tata Digital India Fund Regular Dividend Reinvestment\":\"0P0001BBCP.BO\",\"HSBC Brazil Fund Direct Growth\":\"0P0000XW93.BO\",\"HSBC Brazil Fund Direct Dividend Payout\":\"0P0000XW92.BO\",\"HSBC Brazil Fund Direct Dividend Reinvestment\":\"0P0001BA9F.BO\",\"HSBC Brazil Fund Dividend Reinvestment\":\"0P0001BA9G.BO\"}\n",
        "if url == url3:\n",
        "  i={\"Bitcoin INR\":\"BTC-INR\",\"Ethereum INR\":\"ETH-INR\",\"Tether INR\":\"USDT-INR\",\" BinanceCoin INR\":\"BNB-INR\",\"Cardano INR\":\"ADA-INR\",\"HEX INR\":\"HEX-INR\",\"XRP INR\":\"XRP-INR\",\"USDCoin INR\":\"USDC-INR\",\"Dogecoin INR\":\"DOGE-INR\",\"Polkadot INR\":\"DOT1-INR\"}\n",
        "if url == url4:\n",
        "  i ={\"Ceejay Finance Limited\":\"CEEJAY.BO\",\"Amarjothi Spinning Mills Limited\":\"AMARJOTHI.BO\",\"Angel Broking Limited\":\"ANGELBRKG.BO\",\"Angel Broking Limited\":\"ANGELBRKG.NS\",\"Deepak Spinners Limited\":\"DEEPAKSP.BO\",\"Eco Recycling Limited\":\"ECORECO.BO\",\"Prithvi Exchange (India) Limited\":\"PRITHVIEXCH.BO\",\"Virinchi Limited\":\"VIRINCHI.BO\",\"Total Transport Systems Limited\":\"TOTAL.NS\",\"Uday Jewellery Industries Limited\":\"UDAYJEW.BO\"}\n",
        "for key,Value in i.items():\n",
        "  finaldata = yf.download(Value)\n",
        "  finaldata.to_csv(\"final_data.csv\")\n",
        "  df = pd.read_csv(\"final_data.csv\")\n",
        "  df = df[[\"Date\", \"Close\"]]\n",
        "  df.columns = [\"ds\", \"y\"]\n",
        "  prophet = Prophet()\n",
        "  prophet.fit(df)\n",
        "  future = prophet.make_future_dataframe(periods=730)\n",
        "  forecast = prophet.predict(future)\n",
        "  forecast[[\"ds\", \"yhat\", \"yhat_lower\", \"yhat_upper\"]].tail(200)\n",
        "  from fbprophet.plot import plot\n",
        "  prophet.plot(forecast, figsize=(15, 10),xlabel=\"Time Perod of \"+key,ylabel=\"Share Price in USD\")"
      ]
    }
  ]
}